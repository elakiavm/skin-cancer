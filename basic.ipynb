{
 "cells": [
  {
   "cell_type": "code",
   "execution_count": 29,
   "id": "d6ca24e0",
   "metadata": {},
   "outputs": [],
   "source": [
    "import os\n",
    "import numpy as np\n",
    "import pandas as pd\n",
    "import matplotlib.pyplot as plt\n",
    "import seaborn as sns\n",
    "from glob import glob\n",
    "from PIL import Image\n",
    "import itertools\n",
    "\n",
    "from sklearn.model_selection import train_test_split, cross_val_score, StratifiedKFold\n",
    "from sklearn.preprocessing import LabelEncoder, StandardScaler\n",
    "from sklearn.metrics import classification_report, confusion_matrix, accuracy_score\n",
    "\n",
    "import tensorflow as tf\n",
    "from tensorflow.keras.utils import to_categorical\n",
    "from tensorflow.keras.models import Sequential\n",
    "from tensorflow.keras.layers import Conv2D, MaxPooling2D, Flatten, Dense, Dropout, BatchNormalization\n",
    "from tensorflow.keras.optimizers import Adam\n",
    "from tensorflow.keras.preprocessing.image import ImageDataGenerator\n",
    "from tensorflow.keras.callbacks import ReduceLROnPlateau\n"
   ]
  },
  {
   "cell_type": "code",
   "execution_count": 31,
   "id": "e8c462d3",
   "metadata": {},
   "outputs": [],
   "source": [
    "# Step 2: Loading images and labels into arrays\n",
    "def load_images_and_labels(dataset_path, img_size=(224, 224)):\n",
    "    categories = ['benign', 'malignant']\n",
    "    data = []\n",
    "    labels = []\n",
    "\n",
    "    for category in categories:\n",
    "        folder_path = os.path.join(dataset_path, category)\n",
    "        class_label = category\n",
    "        for img_file in os.listdir(folder_path):\n",
    "            img_path = os.path.join(folder_path, img_file)\n",
    "            try:\n",
    "                img = Image.open(img_path).resize(img_size).convert('RGB')\n",
    "                data.append(np.array(img))\n",
    "                labels.append(class_label)\n",
    "            except Exception as e:\n",
    "                continue\n",
    "    return np.array(data), np.array(labels)\n",
    "\n",
    "# Step 3: Categorical Labels\n",
    "# Load data\n",
    "data_path = r\"C:\\Users\\LLR User\\Desktop\\Coding\\code\\skin-cancer\\Dataset\"  # Replace with your actual dataset folder path\n",
    "data, labels = load_images_and_labels(data_path)"
   ]
  },
  {
   "cell_type": "code",
   "execution_count": 32,
   "id": "1824202d",
   "metadata": {},
   "outputs": [],
   "source": [
    "# Encode labels\n",
    "label_encoder = LabelEncoder()\n",
    "labels_encoded = label_encoder.fit_transform(labels)\n",
    "labels_categorical = to_categorical(labels_encoded)"
   ]
  },
  {
   "cell_type": "code",
   "execution_count": 33,
   "id": "be6b951c",
   "metadata": {},
   "outputs": [],
   "source": [
    "# Step 4: Normalization\n",
    "data = data / 255.0  # Normalize pixel values\n",
    "\n",
    "# Step 5: Train and Test Split\n",
    "X_train, X_test, y_train, y_test = train_test_split(data, labels_categorical, test_size=0.2, random_state=42, stratify=labels_encoded)\n"
   ]
  },
  {
   "cell_type": "code",
   "execution_count": 34,
   "id": "35f4e2b2",
   "metadata": {},
   "outputs": [
    {
     "name": "stderr",
     "output_type": "stream",
     "text": [
      "c:\\Users\\LLR User\\miniconda3\\envs\\tf-env\\lib\\site-packages\\keras\\src\\layers\\convolutional\\base_conv.py:107: UserWarning: Do not pass an `input_shape`/`input_dim` argument to a layer. When using Sequential models, prefer using an `Input(shape)` object as the first layer in the model instead.\n",
      "  super().__init__(activity_regularizer=activity_regularizer, **kwargs)\n"
     ]
    }
   ],
   "source": [
    "# Step 6: Model Building (Basic CNN)\n",
    "def build_cnn_model(input_shape=(224, 224, 3)):\n",
    "    model = Sequential()\n",
    "    model.add(Conv2D(32, (3, 3), activation='relu', input_shape=input_shape))\n",
    "    model.add(MaxPooling2D((2, 2)))\n",
    "    model.add(Conv2D(64, (3, 3), activation='relu'))\n",
    "    model.add(MaxPooling2D((2, 2)))\n",
    "    model.add(Conv2D(128, (3, 3), activation='relu'))\n",
    "    model.add(MaxPooling2D((2, 2)))\n",
    "    model.add(Flatten())\n",
    "    model.add(Dense(128, activation='relu'))\n",
    "    model.add(Dropout(0.5))\n",
    "    model.add(Dense(2, activation='softmax'))\n",
    "\n",
    "    model.compile(optimizer=Adam(learning_rate=0.0001), loss='categorical_crossentropy', metrics=['accuracy'])\n",
    "    return model\n",
    "\n",
    "model = build_cnn_model()\n"
   ]
  },
  {
   "cell_type": "code",
   "execution_count": 35,
   "id": "3fb669a0",
   "metadata": {},
   "outputs": [
    {
     "name": "stderr",
     "output_type": "stream",
     "text": [
      "c:\\Users\\LLR User\\miniconda3\\envs\\tf-env\\lib\\site-packages\\keras\\src\\layers\\convolutional\\base_conv.py:107: UserWarning: Do not pass an `input_shape`/`input_dim` argument to a layer. When using Sequential models, prefer using an `Input(shape)` object as the first layer in the model instead.\n",
      "  super().__init__(activity_regularizer=activity_regularizer, **kwargs)\n"
     ]
    },
    {
     "name": "stdout",
     "output_type": "stream",
     "text": [
      "Epoch 1/5\n",
      "\u001b[1m36/36\u001b[0m \u001b[32m━━━━━━━━━━━━━━━━━━━━\u001b[0m\u001b[37m\u001b[0m \u001b[1m30s\u001b[0m 772ms/step - accuracy: 0.5250 - loss: 0.7111 - val_accuracy: 0.6128 - val_loss: 0.5948\n",
      "Epoch 2/5\n",
      "\u001b[1m36/36\u001b[0m \u001b[32m━━━━━━━━━━━━━━━━━━━━\u001b[0m\u001b[37m\u001b[0m \u001b[1m25s\u001b[0m 687ms/step - accuracy: 0.6790 - loss: 0.5834 - val_accuracy: 0.7744 - val_loss: 0.5055\n",
      "Epoch 3/5\n",
      "\u001b[1m36/36\u001b[0m \u001b[32m━━━━━━━━━━━━━━━━━━━━\u001b[0m\u001b[37m\u001b[0m \u001b[1m25s\u001b[0m 692ms/step - accuracy: 0.7568 - loss: 0.5223 - val_accuracy: 0.7531 - val_loss: 0.4826\n",
      "Epoch 4/5\n",
      "\u001b[1m36/36\u001b[0m \u001b[32m━━━━━━━━━━━━━━━━━━━━\u001b[0m\u001b[37m\u001b[0m \u001b[1m25s\u001b[0m 704ms/step - accuracy: 0.7443 - loss: 0.5129 - val_accuracy: 0.7762 - val_loss: 0.4672\n",
      "Epoch 5/5\n",
      "\u001b[1m36/36\u001b[0m \u001b[32m━━━━━━━━━━━━━━━━━━━━\u001b[0m\u001b[37m\u001b[0m \u001b[1m28s\u001b[0m 764ms/step - accuracy: 0.7859 - loss: 0.4596 - val_accuracy: 0.7229 - val_loss: 0.5120\n",
      "Epoch 1/5\n",
      "\u001b[1m36/36\u001b[0m \u001b[32m━━━━━━━━━━━━━━━━━━━━\u001b[0m\u001b[37m\u001b[0m \u001b[1m58s\u001b[0m 2s/step - accuracy: 0.5358 - loss: 0.7325 - val_accuracy: 0.7367 - val_loss: 0.6210\n",
      "Epoch 2/5\n",
      "\u001b[1m36/36\u001b[0m \u001b[32m━━━━━━━━━━━━━━━━━━━━\u001b[0m\u001b[37m\u001b[0m \u001b[1m30s\u001b[0m 819ms/step - accuracy: 0.6269 - loss: 0.6259 - val_accuracy: 0.6673 - val_loss: 0.5546\n",
      "Epoch 3/5\n",
      "\u001b[1m36/36\u001b[0m \u001b[32m━━━━━━━━━━━━━━━━━━━━\u001b[0m\u001b[37m\u001b[0m \u001b[1m27s\u001b[0m 761ms/step - accuracy: 0.7009 - loss: 0.5362 - val_accuracy: 0.7794 - val_loss: 0.5123\n",
      "Epoch 4/5\n",
      "\u001b[1m36/36\u001b[0m \u001b[32m━━━━━━━━━━━━━━━━━━━━\u001b[0m\u001b[37m\u001b[0m \u001b[1m40s\u001b[0m 729ms/step - accuracy: 0.7344 - loss: 0.5181 - val_accuracy: 0.7900 - val_loss: 0.4482\n",
      "Epoch 5/5\n",
      "\u001b[1m36/36\u001b[0m \u001b[32m━━━━━━━━━━━━━━━━━━━━\u001b[0m\u001b[37m\u001b[0m \u001b[1m28s\u001b[0m 791ms/step - accuracy: 0.7722 - loss: 0.4715 - val_accuracy: 0.7954 - val_loss: 0.4292\n",
      "Epoch 1/5\n",
      "\u001b[1m36/36\u001b[0m \u001b[32m━━━━━━━━━━━━━━━━━━━━\u001b[0m\u001b[37m\u001b[0m \u001b[1m40s\u001b[0m 1s/step - accuracy: 0.4961 - loss: 0.8076 - val_accuracy: 0.7260 - val_loss: 0.6603\n",
      "Epoch 2/5\n",
      "\u001b[1m36/36\u001b[0m \u001b[32m━━━━━━━━━━━━━━━━━━━━\u001b[0m\u001b[37m\u001b[0m \u001b[1m28s\u001b[0m 764ms/step - accuracy: 0.6158 - loss: 0.6468 - val_accuracy: 0.7420 - val_loss: 0.5965\n",
      "Epoch 3/5\n",
      "\u001b[1m36/36\u001b[0m \u001b[32m━━━━━━━━━━━━━━━━━━━━\u001b[0m\u001b[37m\u001b[0m \u001b[1m29s\u001b[0m 807ms/step - accuracy: 0.7030 - loss: 0.6036 - val_accuracy: 0.5463 - val_loss: 0.6773\n",
      "Epoch 4/5\n",
      "\u001b[1m36/36\u001b[0m \u001b[32m━━━━━━━━━━━━━━━━━━━━\u001b[0m\u001b[37m\u001b[0m \u001b[1m31s\u001b[0m 874ms/step - accuracy: 0.6385 - loss: 0.6141 - val_accuracy: 0.7544 - val_loss: 0.4848\n",
      "Epoch 5/5\n",
      "\u001b[1m36/36\u001b[0m \u001b[32m━━━━━━━━━━━━━━━━━━━━\u001b[0m\u001b[37m\u001b[0m \u001b[1m30s\u001b[0m 847ms/step - accuracy: 0.7683 - loss: 0.5000 - val_accuracy: 0.7865 - val_loss: 0.4522\n"
     ]
    }
   ],
   "source": [
    "# Step 7: Cross-validating model using K-Fold (optional but shown)\n",
    "kfold = StratifiedKFold(n_splits=3, shuffle=True, random_state=1)\n",
    "accuracies = []\n",
    "\n",
    "for train_idx, val_idx in kfold.split(X_train, np.argmax(y_train, axis=1)):\n",
    "    model = build_cnn_model()\n",
    "    model.fit(X_train[train_idx], y_train[train_idx], epochs=5, verbose=1, validation_data=(X_train[val_idx], y_train[val_idx]))\n",
    "    scores = model.evaluate(X_train[val_idx], y_train[val_idx], verbose=0)\n",
    "    accuracies.append(scores[1])"
   ]
  },
  {
   "cell_type": "code",
   "execution_count": 36,
   "id": "f4ffd7f7",
   "metadata": {},
   "outputs": [
    {
     "name": "stdout",
     "output_type": "stream",
     "text": [
      "Cross-Validation Accuracies: [0.7229129672050476, 0.7953736782073975, 0.7864768505096436]\n",
      "Mean Accuracy: 0.7682544986406962\n"
     ]
    }
   ],
   "source": [
    "print(\"Cross-Validation Accuracies:\", accuracies)\n",
    "print(\"Mean Accuracy:\", np.mean(accuracies))"
   ]
  },
  {
   "cell_type": "code",
   "execution_count": 37,
   "id": "d49ed9be",
   "metadata": {},
   "outputs": [
    {
     "name": "stdout",
     "output_type": "stream",
     "text": [
      "Epoch 1/10\n",
      "\u001b[1m48/48\u001b[0m \u001b[32m━━━━━━━━━━━━━━━━━━━━\u001b[0m\u001b[37m\u001b[0m \u001b[1m37s\u001b[0m 711ms/step - accuracy: 0.5792 - loss: 0.6880 - val_accuracy: 0.7633 - val_loss: 0.5480\n",
      "Epoch 2/10\n",
      "\u001b[1m48/48\u001b[0m \u001b[32m━━━━━━━━━━━━━━━━━━━━\u001b[0m\u001b[37m\u001b[0m \u001b[1m37s\u001b[0m 755ms/step - accuracy: 0.7157 - loss: 0.5530 - val_accuracy: 0.7929 - val_loss: 0.4500\n",
      "Epoch 3/10\n",
      "\u001b[1m48/48\u001b[0m \u001b[32m━━━━━━━━━━━━━━━━━━━━\u001b[0m\u001b[37m\u001b[0m \u001b[1m35s\u001b[0m 725ms/step - accuracy: 0.7260 - loss: 0.5196 - val_accuracy: 0.8284 - val_loss: 0.4353\n",
      "Epoch 4/10\n",
      "\u001b[1m48/48\u001b[0m \u001b[32m━━━━━━━━━━━━━━━━━━━━\u001b[0m\u001b[37m\u001b[0m \u001b[1m33s\u001b[0m 688ms/step - accuracy: 0.7712 - loss: 0.4605 - val_accuracy: 0.7929 - val_loss: 0.4466\n",
      "Epoch 5/10\n",
      "\u001b[1m48/48\u001b[0m \u001b[32m━━━━━━━━━━━━━━━━━━━━\u001b[0m\u001b[37m\u001b[0m \u001b[1m33s\u001b[0m 693ms/step - accuracy: 0.7578 - loss: 0.4804 - val_accuracy: 0.8225 - val_loss: 0.4228\n",
      "Epoch 6/10\n",
      "\u001b[1m48/48\u001b[0m \u001b[32m━━━━━━━━━━━━━━━━━━━━\u001b[0m\u001b[37m\u001b[0m \u001b[1m34s\u001b[0m 706ms/step - accuracy: 0.7835 - loss: 0.4638 - val_accuracy: 0.8047 - val_loss: 0.4036\n",
      "Epoch 7/10\n",
      "\u001b[1m48/48\u001b[0m \u001b[32m━━━━━━━━━━━━━━━━━━━━\u001b[0m\u001b[37m\u001b[0m \u001b[1m34s\u001b[0m 701ms/step - accuracy: 0.7726 - loss: 0.4521 - val_accuracy: 0.8047 - val_loss: 0.4109\n",
      "Epoch 8/10\n",
      "\u001b[1m48/48\u001b[0m \u001b[32m━━━━━━━━━━━━━━━━━━━━\u001b[0m\u001b[37m\u001b[0m \u001b[1m32s\u001b[0m 662ms/step - accuracy: 0.7885 - loss: 0.4264 - val_accuracy: 0.8107 - val_loss: 0.4165\n",
      "Epoch 9/10\n",
      "\u001b[1m48/48\u001b[0m \u001b[32m━━━━━━━━━━━━━━━━━━━━\u001b[0m\u001b[37m\u001b[0m \u001b[1m32s\u001b[0m 674ms/step - accuracy: 0.7822 - loss: 0.4081 - val_accuracy: 0.7870 - val_loss: 0.4465\n",
      "Epoch 10/10\n",
      "\u001b[1m48/48\u001b[0m \u001b[32m━━━━━━━━━━━━━━━━━━━━\u001b[0m\u001b[37m\u001b[0m \u001b[1m31s\u001b[0m 652ms/step - accuracy: 0.7882 - loss: 0.4176 - val_accuracy: 0.8166 - val_loss: 0.3985\n"
     ]
    },
    {
     "data": {
      "text/plain": [
       "<keras.src.callbacks.history.History at 0x18ced52d300>"
      ]
     },
     "execution_count": 37,
     "metadata": {},
     "output_type": "execute_result"
    }
   ],
   "source": [
    "# Step 8: Testing model\n",
    "model = build_cnn_model()\n",
    "model.fit(X_train, y_train, epochs=10, validation_split=0.1, verbose=1)"
   ]
  },
  {
   "cell_type": "code",
   "execution_count": 38,
   "id": "5a7aa552",
   "metadata": {},
   "outputs": [
    {
     "name": "stdout",
     "output_type": "stream",
     "text": [
      "\u001b[1m14/14\u001b[0m \u001b[32m━━━━━━━━━━━━━━━━━━━━\u001b[0m\u001b[37m\u001b[0m \u001b[1m3s\u001b[0m 149ms/step\n"
     ]
    }
   ],
   "source": [
    "# Evaluate on test set\n",
    "y_pred = model.predict(X_test)\n",
    "y_pred_classes = np.argmax(y_pred, axis=1)\n",
    "y_true = np.argmax(y_test, axis=1)"
   ]
  },
  {
   "cell_type": "code",
   "execution_count": 39,
   "id": "3ce642ec",
   "metadata": {},
   "outputs": [
    {
     "name": "stdout",
     "output_type": "stream",
     "text": [
      "Test Accuracy: 0.7630331753554502\n",
      "Confusion Matrix:\n",
      " [[173  58]\n",
      " [ 42 149]]\n",
      "Classification Report:\n",
      "               precision    recall  f1-score   support\n",
      "\n",
      "           0       0.80      0.75      0.78       231\n",
      "           1       0.72      0.78      0.75       191\n",
      "\n",
      "    accuracy                           0.76       422\n",
      "   macro avg       0.76      0.76      0.76       422\n",
      "weighted avg       0.77      0.76      0.76       422\n",
      "\n"
     ]
    }
   ],
   "source": [
    "# Accuracy & classification report\n",
    "acc = accuracy_score(y_true, y_pred_classes)\n",
    "print(\"Test Accuracy:\", acc)\n",
    "print(\"Confusion Matrix:\\n\", confusion_matrix(y_true, y_pred_classes))\n",
    "print(\"Classification Report:\\n\", classification_report(y_true, y_pred_classes))"
   ]
  }
 ],
 "metadata": {
  "kernelspec": {
   "display_name": "tf-env",
   "language": "python",
   "name": "python3"
  },
  "language_info": {
   "codemirror_mode": {
    "name": "ipython",
    "version": 3
   },
   "file_extension": ".py",
   "mimetype": "text/x-python",
   "name": "python",
   "nbconvert_exporter": "python",
   "pygments_lexer": "ipython3",
   "version": "3.10.16"
  }
 },
 "nbformat": 4,
 "nbformat_minor": 5
}
